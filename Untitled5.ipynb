{
 "cells": [
  {
   "cell_type": "markdown",
   "id": "8e333c5b",
   "metadata": {},
   "source": [
    "1. try to extract data from index one to index 300 with a jump of 3"
   ]
  },
  {
   "cell_type": "code",
   "execution_count": 1,
   "id": "2e4db80d",
   "metadata": {},
   "outputs": [],
   "source": [
    " s=\"this is my first python class and i an learning python string and its function\""
   ]
  },
  {
   "cell_type": "code",
   "execution_count": 2,
   "id": "0a159e53",
   "metadata": {},
   "outputs": [
    {
     "data": {
      "text/plain": [
       "'h   r tnlsninengyosi dtfco'"
      ]
     },
     "execution_count": 2,
     "metadata": {},
     "output_type": "execute_result"
    }
   ],
   "source": [
    "s[1:300:3]"
   ]
  },
  {
   "cell_type": "markdown",
   "id": "5e958ae0",
   "metadata": {},
   "source": [
    "2. try to reverse string without using reverse function "
   ]
  },
  {
   "cell_type": "code",
   "execution_count": 3,
   "id": "e03e08af",
   "metadata": {},
   "outputs": [
    {
     "data": {
      "text/plain": [
       "'this is my first python class and i an learning python string and its function'"
      ]
     },
     "execution_count": 3,
     "metadata": {},
     "output_type": "execute_result"
    }
   ],
   "source": [
    "s"
   ]
  },
  {
   "cell_type": "code",
   "execution_count": 4,
   "id": "a3743613",
   "metadata": {},
   "outputs": [
    {
     "data": {
      "text/plain": [
       "'noitcnuf sti dna gnirts nohtyp gninrael na i dna ssalc nohtyp tsrif ym si siht'"
      ]
     },
     "execution_count": 4,
     "metadata": {},
     "output_type": "execute_result"
    }
   ],
   "source": [
    "s[::-1]"
   ]
  },
  {
   "cell_type": "markdown",
   "id": "a0289501",
   "metadata": {},
   "source": [
    "3.try to split a string after conversion of entire string in uppercase "
   ]
  },
  {
   "cell_type": "code",
   "execution_count": 5,
   "id": "b2799765",
   "metadata": {},
   "outputs": [
    {
     "data": {
      "text/plain": [
       "'this is my first python class and i an learning python string and its function'"
      ]
     },
     "execution_count": 5,
     "metadata": {},
     "output_type": "execute_result"
    }
   ],
   "source": [
    "s"
   ]
  },
  {
   "cell_type": "code",
   "execution_count": 7,
   "id": "4edcc197",
   "metadata": {},
   "outputs": [],
   "source": [
    "s=s.upper()"
   ]
  },
  {
   "cell_type": "code",
   "execution_count": 9,
   "id": "1bf2ee00",
   "metadata": {},
   "outputs": [
    {
     "data": {
      "text/plain": [
       "['THIS',\n",
       " 'IS',\n",
       " 'MY',\n",
       " 'FIRST',\n",
       " 'PYTHON',\n",
       " 'CLASS',\n",
       " 'AND',\n",
       " 'I',\n",
       " 'AN',\n",
       " 'LEARNING',\n",
       " 'PYTHON',\n",
       " 'STRING',\n",
       " 'AND',\n",
       " 'ITS',\n",
       " 'FUNCTION']"
      ]
     },
     "execution_count": 9,
     "metadata": {},
     "output_type": "execute_result"
    }
   ],
   "source": [
    "s.split(' ')"
   ]
  },
  {
   "cell_type": "markdown",
   "id": "2706bf58",
   "metadata": {},
   "source": [
    "4. try to convert whole string into lower case "
   ]
  },
  {
   "cell_type": "code",
   "execution_count": 10,
   "id": "9dddaeab",
   "metadata": {},
   "outputs": [
    {
     "data": {
      "text/plain": [
       "'THIS IS MY FIRST PYTHON CLASS AND I AN LEARNING PYTHON STRING AND ITS FUNCTION'"
      ]
     },
     "execution_count": 10,
     "metadata": {},
     "output_type": "execute_result"
    }
   ],
   "source": [
    "s"
   ]
  },
  {
   "cell_type": "code",
   "execution_count": 11,
   "id": "a70d5a9f",
   "metadata": {},
   "outputs": [
    {
     "data": {
      "text/plain": [
       "'this is my first python class and i an learning python string and its function'"
      ]
     },
     "execution_count": 11,
     "metadata": {},
     "output_type": "execute_result"
    }
   ],
   "source": [
    "s.lower()"
   ]
  },
  {
   "cell_type": "markdown",
   "id": "2703abee",
   "metadata": {},
   "source": [
    "5. try to capitalized whole string."
   ]
  },
  {
   "cell_type": "code",
   "execution_count": 12,
   "id": "f59934fc",
   "metadata": {},
   "outputs": [
    {
     "data": {
      "text/plain": [
       "'This is my first python class and i an learning python string and its function'"
      ]
     },
     "execution_count": 12,
     "metadata": {},
     "output_type": "execute_result"
    }
   ],
   "source": [
    "s.capitalize()"
   ]
  },
  {
   "cell_type": "markdown",
   "id": "3c7c96f9",
   "metadata": {},
   "source": [
    "6. write a diffrence between isalnum() and isalpha()"
   ]
  },
  {
   "cell_type": "markdown",
   "id": "e73a935e",
   "metadata": {},
   "source": [
    " isalnum() : is when strings charecter are alphabetic and numeric .\n",
    " \n",
    " isalpha() : is when strings all chatecter are alphabetic ."
   ]
  },
  {
   "cell_type": "markdown",
   "id": "ee65a9be",
   "metadata": {},
   "source": [
    "7. try to give example of expandtab ."
   ]
  },
  {
   "cell_type": "code",
   "execution_count": 13,
   "id": "7459186b",
   "metadata": {},
   "outputs": [],
   "source": [
    "s = \"hht\\tffe\\tggu\""
   ]
  },
  {
   "cell_type": "code",
   "execution_count": 14,
   "id": "431c21a1",
   "metadata": {},
   "outputs": [
    {
     "data": {
      "text/plain": [
       "'hht     ffe     ggu'"
      ]
     },
     "execution_count": 14,
     "metadata": {},
     "output_type": "execute_result"
    }
   ],
   "source": [
    "s.expandtabs()"
   ]
  },
  {
   "cell_type": "markdown",
   "id": "dfcce16f",
   "metadata": {},
   "source": [
    "8. give example of strip , lstrip , rstrip ."
   ]
  },
  {
   "cell_type": "code",
   "execution_count": 15,
   "id": "40ee4167",
   "metadata": {},
   "outputs": [],
   "source": [
    "s = \"   hdu   ndsj   sdjdk   \""
   ]
  },
  {
   "cell_type": "code",
   "execution_count": 16,
   "id": "bb78f480",
   "metadata": {},
   "outputs": [
    {
     "data": {
      "text/plain": [
       "'hdu   ndsj   sdjdk'"
      ]
     },
     "execution_count": 16,
     "metadata": {},
     "output_type": "execute_result"
    }
   ],
   "source": [
    "s.strip()"
   ]
  },
  {
   "cell_type": "code",
   "execution_count": 17,
   "id": "1a5ec9f3",
   "metadata": {},
   "outputs": [
    {
     "data": {
      "text/plain": [
       "'hdu   ndsj   sdjdk   '"
      ]
     },
     "execution_count": 17,
     "metadata": {},
     "output_type": "execute_result"
    }
   ],
   "source": [
    "s.lstrip()"
   ]
  },
  {
   "cell_type": "code",
   "execution_count": 18,
   "id": "456f38b4",
   "metadata": {},
   "outputs": [
    {
     "data": {
      "text/plain": [
       "'   hdu   ndsj   sdjdk'"
      ]
     },
     "execution_count": 18,
     "metadata": {},
     "output_type": "execute_result"
    }
   ],
   "source": [
    "s.rstrip()"
   ]
  },
  {
   "cell_type": "markdown",
   "id": "a0e2cc01",
   "metadata": {},
   "source": [
    "9. replace string charecter to another charector by taking your own example ."
   ]
  },
  {
   "cell_type": "code",
   "execution_count": 19,
   "id": "ab5a90e4",
   "metadata": {},
   "outputs": [
    {
     "data": {
      "text/plain": [
       "'   hdu   ndsj   sdjdk   '"
      ]
     },
     "execution_count": 19,
     "metadata": {},
     "output_type": "execute_result"
    }
   ],
   "source": [
    "s"
   ]
  },
  {
   "cell_type": "code",
   "execution_count": 26,
   "id": "18106b7e",
   "metadata": {},
   "outputs": [
    {
     "data": {
      "text/plain": [
       "'   hdu   roy   sdjdk   '"
      ]
     },
     "execution_count": 26,
     "metadata": {},
     "output_type": "execute_result"
    }
   ],
   "source": [
    "s.replace('ndsj',\"roy\")"
   ]
  },
  {
   "cell_type": "markdown",
   "id": "f2331a9e",
   "metadata": {},
   "source": [
    "10. try to give a defination of string center function with and example ."
   ]
  },
  {
   "cell_type": "markdown",
   "id": "510877f7",
   "metadata": {},
   "source": [
    "string center function place your string between set number of charector ."
   ]
  },
  {
   "cell_type": "code",
   "execution_count": 27,
   "id": "bfbe1533",
   "metadata": {},
   "outputs": [],
   "source": [
    "s = 'you'"
   ]
  },
  {
   "cell_type": "code",
   "execution_count": 28,
   "id": "eba176b2",
   "metadata": {},
   "outputs": [
    {
     "data": {
      "text/plain": [
       "'wwwwwwwwyouwwwwwwwww'"
      ]
     },
     "execution_count": 28,
     "metadata": {},
     "output_type": "execute_result"
    }
   ],
   "source": [
    "s.center(20,'w')"
   ]
  },
  {
   "cell_type": "markdown",
   "id": "67cfefef",
   "metadata": {},
   "source": [
    "11. write your own defination of compiler and interpretor ."
   ]
  },
  {
   "cell_type": "markdown",
   "id": "6a7427a6",
   "metadata": {},
   "source": [
    "* compiler: it is a program which convert whole progaram into machine language .\n",
    "* interpretor : its a program that convert program into machine language ."
   ]
  },
  {
   "cell_type": "markdown",
   "id": "505f797b",
   "metadata": {},
   "source": [
    "12. python is a interpreted of compiled language ."
   ]
  },
  {
   "cell_type": "markdown",
   "id": "6b08793e",
   "metadata": {},
   "source": [
    "becuase python is a the most simpleast language , and also don't like other python convert code direct into machine language . "
   ]
  },
  {
   "cell_type": "markdown",
   "id": "7027c441",
   "metadata": {},
   "source": [
    "13. write usecase of python . "
   ]
  },
  {
   "cell_type": "markdown",
   "id": "61b02faa",
   "metadata": {},
   "source": [
    " python is easy to learn . python could be use in gaming , python can be used in making of programming . and also python is where secure so it can be used for security perperses . "
   ]
  },
  {
   "cell_type": "code",
   "execution_count": null,
   "id": "31b9a3ab",
   "metadata": {},
   "outputs": [],
   "source": []
  }
 ],
 "metadata": {
  "kernelspec": {
   "display_name": "Python 3 (ipykernel)",
   "language": "python",
   "name": "python3"
  },
  "language_info": {
   "codemirror_mode": {
    "name": "ipython",
    "version": 3
   },
   "file_extension": ".py",
   "mimetype": "text/x-python",
   "name": "python",
   "nbconvert_exporter": "python",
   "pygments_lexer": "ipython3",
   "version": "3.9.12"
  }
 },
 "nbformat": 4,
 "nbformat_minor": 5
}
